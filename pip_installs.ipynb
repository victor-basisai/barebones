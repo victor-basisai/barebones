{
 "cells": [
  {
   "cell_type": "code",
   "execution_count": null,
   "metadata": {},
   "outputs": [],
   "source": [
    "%%bash\n",
    "# pip install --upgrade pip\n",
    "# pip install -r requirements.txt --user\n",
    "# pip freeze | grep pycaret\n",
    "\n",
    "pip install llvmlite==0.35.0 --ignore-installed\n",
    "pip install smart-open==3.0.0\n",
    "pip install pycaret\n",
    "pip install sklearn-pandas\n",
    "# pip install bdrk\n",
    "pip install bdrk[model-monitoring]\n",
    "# pip install bdrk[xafai]\n",
    "pip install shap\n",
    "pip install aif360\n",
    "pip install imbalanced-learn"
   ]
  },
  {
   "cell_type": "code",
   "execution_count": null,
   "metadata": {},
   "outputs": [],
   "source": []
  }
 ],
 "metadata": {
  "kernelspec": {
   "display_name": "Python 3",
   "language": "python",
   "name": "python3"
  },
  "language_info": {
   "codemirror_mode": {
    "name": "ipython",
    "version": 3
   },
   "file_extension": ".py",
   "mimetype": "text/x-python",
   "name": "python",
   "nbconvert_exporter": "python",
   "pygments_lexer": "ipython3",
   "version": "3.8.5"
  }
 },
 "nbformat": 4,
 "nbformat_minor": 4
}
